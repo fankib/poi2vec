{
 "cells": [
  {
   "cell_type": "code",
   "execution_count": 91,
   "metadata": {},
   "outputs": [],
   "source": [
    "import numpy as np\n",
    "import pandas as pd\n",
    "from datetime import datetime\n",
    "import tqdm\n",
    "\n",
    "checkin_file = \"../dataset/test_total.txt\"\n",
    "df = pd.read_csv(checkin_file, sep='\\t', header=None)\n",
    "df.columns = [\"user\", \"poi\", \"time\"]"
   ]
  },
  {
   "cell_type": "code",
   "execution_count": 92,
   "metadata": {},
   "outputs": [
    {
     "data": {
      "text/plain": [
       "425648"
      ]
     },
     "execution_count": 92,
     "metadata": {},
     "output_type": "execute_result"
    }
   ],
   "source": [
    "len(df)"
   ]
  },
  {
   "cell_type": "code",
   "execution_count": 93,
   "metadata": {},
   "outputs": [],
   "source": [
    "prev_cnt = 0\n",
    "curr_cnt = len(df)\n",
    "while prev_cnt != curr_cnt:\n",
    "    prev_cnt = curr_cnt\n",
    "    df = df[df.groupby('user').user.transform(len) > 5]\n",
    "    df = df[df.groupby('poi').poi.transform(len) > 5]\n",
    "    curr_cnt = len(df)"
   ]
  },
  {
   "cell_type": "code",
   "execution_count": 94,
   "metadata": {
    "scrolled": false
   },
   "outputs": [
    {
     "data": {
      "text/plain": [
       "242686"
      ]
     },
     "execution_count": 94,
     "metadata": {},
     "output_type": "execute_result"
    }
   ],
   "source": [
    "len(df)"
   ]
  },
  {
   "cell_type": "code",
   "execution_count": 95,
   "metadata": {},
   "outputs": [],
   "source": [
    "poi2id = np.load(\"./npy/poi2id.npy\").item()\n",
    "df['poi'] = df['poi'].apply(lambda x: poi2id[x] if poi2id.get(x) != None else 13187)"
   ]
  },
  {
   "cell_type": "code",
   "execution_count": 96,
   "metadata": {},
   "outputs": [],
   "source": [
    "df['time'] = df['time'].apply(lambda x: (datetime.strptime(x, \"%Y-%m-%d %H:%M:%S\")-datetime(2009,1,1))\\\n",
    "                              .total_seconds()/360)  # hour"
   ]
  },
  {
   "cell_type": "code",
   "execution_count": 97,
   "metadata": {},
   "outputs": [
    {
     "data": {
      "text/plain": [
       "13005"
      ]
     },
     "execution_count": 97,
     "metadata": {},
     "output_type": "execute_result"
    }
   ],
   "source": [
    "np.max(df.poi)"
   ]
  },
  {
   "cell_type": "code",
   "execution_count": 98,
   "metadata": {
    "scrolled": true
   },
   "outputs": [],
   "source": [
    "'''\n",
    "user2id = {'unk':0}\n",
    "id2user = [0]\n",
    "for target_idx in tqdm.tqdm(xrange(len(df))):\n",
    "    (user, poi, time) = df.iloc[target_idx]\n",
    "    if user2id.get(user) == None:\n",
    "        user2id[user] = len(id2user)\n",
    "        id2user.append(user)\n",
    "'''\n",
    "user2id = np.load('./npy/user2id.npy').item()\n",
    "id2user = np.load('./npy/id2user.npy')\n",
    "\n",
    "df['user'] = df['user'].apply(lambda x: user2id[x] if user2id.get(x) != None else 0)"
   ]
  },
  {
   "cell_type": "code",
   "execution_count": 99,
   "metadata": {
    "scrolled": true
   },
   "outputs": [
    {
     "data": {
      "text/plain": [
       "(18712, 242686)"
      ]
     },
     "execution_count": 99,
     "metadata": {},
     "output_type": "execute_result"
    }
   ],
   "source": [
    "len(df.groupby('user')),len(df)"
   ]
  },
  {
   "cell_type": "code",
   "execution_count": 100,
   "metadata": {
    "scrolled": true
   },
   "outputs": [
    {
     "name": "stderr",
     "output_type": "stream",
     "text": [
      "100%|██████████| 242686/242686 [01:24<00:00, 2883.45it/s]\n"
     ]
    }
   ],
   "source": [
    "train_user = []\n",
    "train_context = []\n",
    "train_target = []\n",
    "\n",
    "tow = 6\n",
    "prev_user = df.iloc[0]['user']\n",
    "user_user = []\n",
    "user_context = []\n",
    "user_target = []\n",
    "for target_idx in tqdm.tqdm(xrange(len(df))):\n",
    "    (user, poi, time) = df.iloc[target_idx]\n",
    "    if prev_user != user:\n",
    "        prev_user = user\n",
    "        train_user += user_user\n",
    "        train_context += user_context\n",
    "        train_target += user_target\n",
    "\n",
    "        user_user = []\n",
    "        user_context = []\n",
    "        user_target = []\n",
    "        #print train_user, train_context, train_target\n",
    "    \n",
    "    context = []\n",
    "    for context_idx in xrange(target_idx+1, len(df)):\n",
    "        (c_user, c_poi, c_time) = df.iloc[context_idx]\n",
    "        if user == c_user and (time+tow) > c_time:\n",
    "                context.append(c_poi)\n",
    "        else:\n",
    "            break\n",
    "    if context:\n",
    "        user_user.append(user)\n",
    "        user_context.append(context)\n",
    "        user_target.append(poi)\n",
    "        \n",
    "train_user += user_user\n",
    "train_context += user_context\n",
    "train_target += user_target"
   ]
  },
  {
   "cell_type": "code",
   "execution_count": 101,
   "metadata": {},
   "outputs": [
    {
     "data": {
      "text/plain": [
       "(44189, 44189, 44189)"
      ]
     },
     "execution_count": 101,
     "metadata": {},
     "output_type": "execute_result"
    }
   ],
   "source": [
    "len(train_user), len(train_context), len(train_target)"
   ]
  },
  {
   "cell_type": "code",
   "execution_count": 102,
   "metadata": {
    "scrolled": false
   },
   "outputs": [
    {
     "name": "stdout",
     "output_type": "stream",
     "text": [
      "41 2.94349272443 2.0 1\n"
     ]
    }
   ],
   "source": [
    "len_context = []\n",
    "for i, context in enumerate(train_context):\n",
    "    len_context.append(len(context))\n",
    "print np.max(len_context), np.mean(len_context), np.median(len_context), np.min(len_context)"
   ]
  },
  {
   "cell_type": "code",
   "execution_count": 103,
   "metadata": {},
   "outputs": [
    {
     "name": "stdout",
     "output_type": "stream",
     "text": [
      "44189\n",
      "21\n"
     ]
    }
   ],
   "source": [
    "len_context.sort()\n",
    "print len(len_context)\n",
    "print len_context[int(len(len_context)*0.99)]"
   ]
  },
  {
   "cell_type": "code",
   "execution_count": 104,
   "metadata": {},
   "outputs": [],
   "source": [
    "maxlen_context = 16\n",
    "for i, context in enumerate(train_context):\n",
    "    if len(context) < maxlen_context:\n",
    "        train_context[i] += ([0]*(maxlen_context-len(context)))\n",
    "    elif len(context) > maxlen_context:\n",
    "        train_context[i] = context[:maxlen_context]"
   ]
  },
  {
   "cell_type": "code",
   "execution_count": 105,
   "metadata": {},
   "outputs": [
    {
     "name": "stdout",
     "output_type": "stream",
     "text": [
      "16 16.0 16.0 16\n"
     ]
    }
   ],
   "source": [
    "len_context = []\n",
    "for context in train_context:\n",
    "    len_context.append(len(context))\n",
    "print np.max(len_context), np.mean(len_context), np.median(len_context), np.min(len_context)"
   ]
  },
  {
   "cell_type": "code",
   "execution_count": 106,
   "metadata": {},
   "outputs": [],
   "source": [
    "np.save('./npy/test_context.npy', train_context)\n",
    "np.save('./npy/test_user.npy', train_user)\n",
    "np.save('./npy/test_target.npy', train_target)"
   ]
  },
  {
   "cell_type": "code",
   "execution_count": 63,
   "metadata": {},
   "outputs": [],
   "source": [
    "np.save('./npy/user2id.npy', user2id)\n",
    "np.save('./npy/id2user.npy', id2user)"
   ]
  },
  {
   "cell_type": "code",
   "execution_count": 101,
   "metadata": {},
   "outputs": [
    {
     "data": {
      "text/plain": [
       "4627"
      ]
     },
     "execution_count": 101,
     "metadata": {},
     "output_type": "execute_result"
    }
   ],
   "source": [
    "len(id2user)"
   ]
  }
 ],
 "metadata": {
  "kernelspec": {
   "display_name": "Python 3",
   "language": "python",
   "name": "python3"
  },
  "language_info": {
   "codemirror_mode": {
    "name": "ipython",
    "version": 3
   },
   "file_extension": ".py",
   "mimetype": "text/x-python",
   "name": "python",
   "nbconvert_exporter": "python",
   "pygments_lexer": "ipython3",
   "version": "3.7.5"
  }
 },
 "nbformat": 4,
 "nbformat_minor": 2
}
