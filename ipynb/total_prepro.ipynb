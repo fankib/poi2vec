{
 "cells": [
  {
   "cell_type": "code",
   "execution_count": 75,
   "metadata": {},
   "outputs": [
    {
     "name": "stdout",
     "output_type": "stream",
     "text": [
      "total poi : 13187\n"
     ]
    }
   ],
   "source": [
    "from multiprocessing import Process\n",
    "import numpy as np\n",
    "import pandas as pd\n",
    "import tqdm\n",
    "import os\n",
    "from models import Node, Rec \n",
    "\n",
    "checkin_file = \"../dataset/poi_info.txt\"\n",
    "df = pd.read_csv(checkin_file, sep='\\t', header=None)\n",
    "df.columns = [\"id\", \"poi\", \"latitude\", \"longitude\"]\n",
    "print \"total poi :\", len(df)\n",
    "poi2id = {}\n",
    "id2poi = {}\n",
    "for i in xrange(len(df)):\n",
    "    poi2id[df['poi'][i]] = df['id'][i]\n",
    "    id2poi[df['id'][i]] = df['poi'][i]\n",
    "id2poi = id2poi.values()\n",
    "id2pos = df.loc[:, ['latitude', 'longitude', 'poi']].set_index('poi').T.to_dict('list')"
   ]
  },
  {
   "cell_type": "code",
   "execution_count": 76,
   "metadata": {},
   "outputs": [],
   "source": [
    "unk = 'u*n*k'\n",
    "poi2id[unk] = len(id2poi)\n",
    "id2poi.append(unk)"
   ]
  },
  {
   "cell_type": "code",
   "execution_count": 77,
   "metadata": {},
   "outputs": [],
   "source": [
    "np.save(\"./npy/poi2id.npy\", poi2id)\n",
    "np.save(\"./npy/id2poi.npy\", id2poi)"
   ]
  },
  {
   "cell_type": "code",
   "execution_count": 78,
   "metadata": {},
   "outputs": [
    {
     "name": "stdout",
     "output_type": "stream",
     "text": [
      "13187\n"
     ]
    }
   ],
   "source": [
    "print poi2id.get(unk)"
   ]
  },
  {
   "cell_type": "code",
   "execution_count": 79,
   "metadata": {},
   "outputs": [
    {
     "name": "stdout",
     "output_type": "stream",
     "text": [
      "total node of tree : 40955\n"
     ]
    }
   ],
   "source": [
    "# build a tree of area\n",
    "tree = Node(df['latitude'].min(), df['latitude'].max(),df['longitude'].max(), df['longitude'].min(), 0)\n",
    "tree.build()\n",
    "print \"total node of tree :\", Node.count\n",
    "theta = Node.theta"
   ]
  },
  {
   "cell_type": "code",
   "execution_count": 80,
   "metadata": {},
   "outputs": [],
   "source": [
    "def main(id2poi_batch):\n",
    "    id2route = []\n",
    "    id2lr = []\n",
    "    id2prob = []\n",
    "\n",
    "    # make route/left_right_choice/probability list of each poi\n",
    "    for poi in tqdm.tqdm(id2poi_batch):\n",
    "        # each poi, they have a area. p_n is each corner\n",
    "        p_n = [(id2pos[poi][0] - 0.5*theta, id2pos[poi][1] - 0.5*theta)\\\n",
    "                ,(id2pos[poi][0] - 0.5*theta, id2pos[poi][1] + 0.5*theta)\\\n",
    "                ,(id2pos[poi][0] + 0.5*theta, id2pos[poi][1] - 0.5*theta)\\\n",
    "                ,(id2pos[poi][0] + 0.5*theta, id2pos[poi][1] + 0.5*theta)]\n",
    "        # that area\n",
    "        poi_area = Rec((id2pos[poi][1]+0.5*theta, id2pos[poi][1]-0.5*theta\\\n",
    "                        ,id2pos[poi][0]-0.5*theta, id2pos[poi][0]+0.5*theta))\n",
    "\n",
    "        route_list = []\n",
    "        lr_list = []\n",
    "        area_list = []\n",
    "        # each corner, where they are contained in\n",
    "        for p in p_n:\n",
    "            route, lr = tree.find_route(p)\n",
    "            route_list.append(route)\n",
    "            lr_list.append(lr)\n",
    "\n",
    "        # remove duplicate\n",
    "        route_set = []\n",
    "        for route in route_list:\n",
    "            if route not in route_set:\n",
    "                route_set.append(route)\n",
    "        lr_set = []\n",
    "        for lr in lr_list:\n",
    "            if lr not in lr_set:\n",
    "                lr_set.append(lr)\n",
    "\n",
    "        # each leaf, how much they are overlaped\n",
    "        for route in route_set:\n",
    "            leaf_area = Rec(tree.find_idx(route[0]))\n",
    "            area_list.append(leaf_area.overlap(poi_area))\n",
    "        area_list = np.divide(area_list, sum(area_list))\n",
    "\n",
    "        id2route.append(route_set)\n",
    "        id2lr.append(lr_set)\n",
    "        id2prob.append(area_list)\n",
    "        \n",
    "    return id2route, id2lr, id2prob"
   ]
  },
  {
   "cell_type": "code",
   "execution_count": 81,
   "metadata": {},
   "outputs": [
    {
     "name": "stderr",
     "output_type": "stream",
     "text": [
      "100%|██████████| 13187/13187 [00:23<00:00, 551.16it/s]\n"
     ]
    }
   ],
   "source": [
    "if __name__ == '__main__':\n",
    "    id2route, id2lr, id2prob = main(id2poi[:-1])"
   ]
  },
  {
   "cell_type": "code",
   "execution_count": 85,
   "metadata": {},
   "outputs": [
    {
     "name": "stdout",
     "output_type": "stream",
     "text": [
      "13\n"
     ]
    }
   ],
   "source": [
    "max_path = len(id2route[0][0])\n",
    "print max_path"
   ]
  },
  {
   "cell_type": "code",
   "execution_count": 86,
   "metadata": {},
   "outputs": [
    {
     "name": "stderr",
     "output_type": "stream",
     "text": [
      "100%|██████████| 13187/13187 [00:00<00:00, 81040.12it/s]\n"
     ]
    }
   ],
   "source": [
    "pad = [0]*max_path\n",
    "max_route_cnt = 4\n",
    "id2route_cnt = []\n",
    "\n",
    "for idx, routes in enumerate(tqdm.tqdm(id2route)):\n",
    "    id2route_cnt.append(len(routes))\n",
    "            \n",
    "    if len(routes) < max_route_cnt:\n",
    "        for _ in xrange(max_route_cnt - len(routes)):\n",
    "            routes.append(pad)\n",
    "        \n",
    "    routes = np.asarray([l[1:] for l in routes])\n",
    "    id2route[idx] = routes\n",
    "\n",
    "id2route.append([pad[1:], pad[1:], pad[1:], pad[1:]])\n",
    "id2route_cnt.append(0)"
   ]
  },
  {
   "cell_type": "code",
   "execution_count": 87,
   "metadata": {},
   "outputs": [
    {
     "name": "stdout",
     "output_type": "stream",
     "text": [
      "(13188, 4, 12)\n",
      "(13188,)\n"
     ]
    }
   ],
   "source": [
    "print np.asarray(id2route).shape\n",
    "print np.asarray(id2route_cnt).shape"
   ]
  },
  {
   "cell_type": "code",
   "execution_count": 89,
   "metadata": {},
   "outputs": [
    {
     "name": "stderr",
     "output_type": "stream",
     "text": [
      "100%|██████████| 13187/13187 [00:00<00:00, 592942.69it/s]\n"
     ]
    }
   ],
   "source": [
    "pad = [0]*(max_path-1)\n",
    "\n",
    "for idx, lrs in enumerate(tqdm.tqdm(id2lr)):\n",
    "    if len(lrs) < max_route_cnt:\n",
    "        for _ in xrange(max_route_cnt - len(lrs)):\n",
    "            lrs.append(pad)\n",
    "            \n",
    "    id2lr[idx] = lrs\n",
    "        \n",
    "id2lr.append([pad, pad, pad, pad])"
   ]
  },
  {
   "cell_type": "code",
   "execution_count": 90,
   "metadata": {},
   "outputs": [
    {
     "name": "stdout",
     "output_type": "stream",
     "text": [
      "(13188, 4, 12)\n"
     ]
    }
   ],
   "source": [
    "print np.asarray(id2lr).shape"
   ]
  },
  {
   "cell_type": "code",
   "execution_count": 91,
   "metadata": {},
   "outputs": [
    {
     "name": "stderr",
     "output_type": "stream",
     "text": [
      "100%|██████████| 13187/13187 [00:00<00:00, 162874.68it/s]\n"
     ]
    }
   ],
   "source": [
    "pad = 0\n",
    "\n",
    "for idx, probs in enumerate(tqdm.tqdm(id2prob)):\n",
    "    probs = list(probs)\n",
    "    if len(probs) < max_route_cnt:\n",
    "        for _ in xrange(max_route_cnt - len(probs)):\n",
    "            probs.append(pad)\n",
    "            \n",
    "    id2prob[idx] = probs\n",
    "        \n",
    "id2prob.append([0,0,0,0])"
   ]
  },
  {
   "cell_type": "code",
   "execution_count": 92,
   "metadata": {},
   "outputs": [
    {
     "name": "stdout",
     "output_type": "stream",
     "text": [
      "(13188, 4)\n"
     ]
    }
   ],
   "source": [
    "print np.asarray(id2prob).shape"
   ]
  },
  {
   "cell_type": "code",
   "execution_count": 94,
   "metadata": {},
   "outputs": [],
   "source": [
    "np.save(\"./npy/id2route.npy\", id2route)\n",
    "np.save(\"./npy/id2lr.npy\", id2lr)\n",
    "np.save(\"./npy/id2prob.npy\", id2prob)"
   ]
  },
  {
   "cell_type": "code",
   "execution_count": 93,
   "metadata": {},
   "outputs": [
    {
     "data": {
      "text/plain": [
       "40683"
      ]
     },
     "execution_count": 93,
     "metadata": {},
     "output_type": "execute_result"
    }
   ],
   "source": [
    "np.max(id2route)"
   ]
  }
 ],
 "metadata": {
  "kernelspec": {
   "display_name": "Python 3",
   "language": "python",
   "name": "python3"
  },
  "language_info": {
   "codemirror_mode": {
    "name": "ipython",
    "version": 3
   },
   "file_extension": ".py",
   "mimetype": "text/x-python",
   "name": "python",
   "nbconvert_exporter": "python",
   "pygments_lexer": "ipython3",
   "version": "3.7.5"
  }
 },
 "nbformat": 4,
 "nbformat_minor": 2
}
