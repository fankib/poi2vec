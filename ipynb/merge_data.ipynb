{
 "cells": [
  {
   "cell_type": "code",
   "execution_count": 146,
   "metadata": {},
   "outputs": [],
   "source": [
    "import os\n",
    "import tqdm\n",
    "import numpy as np\n",
    "\n",
    "route_files = []\n",
    "lr_files = []\n",
    "prob_files = []\n",
    "\n",
    "for (path, dir, files) in os.walk(\"./npy/splited_file/\"):\n",
    "    for filename in files:\n",
    "        if 'id2route' in filename:\n",
    "            route_files.append('./npy/splited_file/'+filename)\n",
    "        if 'id2lr' in filename:\n",
    "            lr_files.append('./npy/splited_file/'+filename)\n",
    "        if 'id2prob' in filename:\n",
    "            prob_files.append('./npy/splited_file/'+filename)"
   ]
  },
  {
   "cell_type": "code",
   "execution_count": 147,
   "metadata": {},
   "outputs": [],
   "source": [
    "route_files.sort()\n",
    "lr_files.sort()\n",
    "prob_files.sort()"
   ]
  },
  {
   "cell_type": "code",
   "execution_count": 148,
   "metadata": {},
   "outputs": [
    {
     "name": "stdout",
     "output_type": "stream",
     "text": [
      "['./npy/splited_file/id2route_01.npy', './npy/splited_file/id2route_02.npy', './npy/splited_file/id2route_03.npy', './npy/splited_file/id2route_04.npy', './npy/splited_file/id2route_05.npy', './npy/splited_file/id2route_06.npy', './npy/splited_file/id2route_07.npy', './npy/splited_file/id2route_08.npy', './npy/splited_file/id2route_09.npy', './npy/splited_file/id2route_10.npy', './npy/splited_file/id2route_11.npy', './npy/splited_file/id2route_12.npy', './npy/splited_file/id2route_13.npy', './npy/splited_file/id2route_14.npy', './npy/splited_file/id2route_15.npy', './npy/splited_file/id2route_16.npy', './npy/splited_file/id2route_17.npy', './npy/splited_file/id2route_18.npy', './npy/splited_file/id2route_19.npy', './npy/splited_file/id2route_20.npy', './npy/splited_file/id2route_21.npy']\n"
     ]
    }
   ],
   "source": [
    "print route_files"
   ]
  },
  {
   "cell_type": "code",
   "execution_count": 149,
   "metadata": {},
   "outputs": [
    {
     "name": "stderr",
     "output_type": "stream",
     "text": [
      "100%|██████████| 21/21 [00:00<00:00, 36.92it/s]\n"
     ]
    }
   ],
   "source": [
    "pad = [0]*17\n",
    "id2route = [[pad[1:], pad[1:], pad[1:], pad[1:]]]\n",
    "id2route_cnt = [0]\n",
    "max_route_cnt = 4\n",
    "max_node_idx = 0\n",
    "\n",
    "for filename in tqdm.tqdm(route_files):\n",
    "    routes_list = np.load(filename)\n",
    "    for routes in routes_list:\n",
    "        id2route_cnt.append(len(routes))\n",
    "        \n",
    "        batch_max = np.max([node for route in routes\n",
    "                                for node in route[1:]])\n",
    "        if batch_max > max_node_idx:\n",
    "            max_node_idx = batch_max\n",
    "            \n",
    "        if len(routes) < max_route_cnt:\n",
    "            for _ in xrange(max_route_cnt - len(routes)):\n",
    "                routes.append(pad)\n",
    "        \n",
    "        routes = np.asarray([l[1:] for l in routes])\n",
    "        id2route.append(routes)"
   ]
  },
  {
   "cell_type": "code",
   "execution_count": 150,
   "metadata": {},
   "outputs": [
    {
     "name": "stdout",
     "output_type": "stream",
     "text": [
      "(15234, 4, 16)\n",
      "(15234,)\n",
      "58258\n"
     ]
    }
   ],
   "source": [
    "print np.asarray(id2route).shape\n",
    "print np.asarray(id2route_cnt).shape\n",
    "print max_node_idx"
   ]
  },
  {
   "cell_type": "code",
   "execution_count": 151,
   "metadata": {},
   "outputs": [
    {
     "name": "stderr",
     "output_type": "stream",
     "text": [
      "100%|██████████| 21/21 [00:00<00:00, 117.84it/s]\n"
     ]
    }
   ],
   "source": [
    "pad = [0]*16\n",
    "id2lr = [[pad, pad, pad, pad]]\n",
    "\n",
    "for filename in tqdm.tqdm(lr_files):\n",
    "    lrs_list = np.load(filename)\n",
    "    for lrs in lrs_list:\n",
    "        if len(lrs) < max_route_cnt:\n",
    "            for _ in xrange(max_route_cnt - len(lrs)):\n",
    "                lrs.append(pad)\n",
    "        id2lr.append(lrs)"
   ]
  },
  {
   "cell_type": "code",
   "execution_count": 152,
   "metadata": {},
   "outputs": [
    {
     "name": "stdout",
     "output_type": "stream",
     "text": [
      "(15234, 4, 16)\n"
     ]
    }
   ],
   "source": [
    "print np.asarray(id2lr).shape"
   ]
  },
  {
   "cell_type": "code",
   "execution_count": 153,
   "metadata": {},
   "outputs": [
    {
     "name": "stderr",
     "output_type": "stream",
     "text": [
      "100%|██████████| 21/21 [00:00<00:00, 173.03it/s]\n"
     ]
    }
   ],
   "source": [
    "pad = 0\n",
    "id2prob = [[0,0,0,0]]\n",
    "\n",
    "for filename in tqdm.tqdm(prob_files):\n",
    "    probs_list = np.load(filename)\n",
    "    for probs in probs_list:\n",
    "        probs = list(probs)\n",
    "        if len(probs) < max_route_cnt:\n",
    "            for _ in xrange(max_route_cnt - len(probs)):\n",
    "                probs.append(pad)\n",
    "        id2prob.append(probs)       "
   ]
  },
  {
   "cell_type": "code",
   "execution_count": 154,
   "metadata": {},
   "outputs": [
    {
     "name": "stdout",
     "output_type": "stream",
     "text": [
      "(15234, 4)\n"
     ]
    }
   ],
   "source": [
    "print np.asarray(id2prob).shape"
   ]
  },
  {
   "cell_type": "code",
   "execution_count": 155,
   "metadata": {},
   "outputs": [],
   "source": [
    "np.save('./npy/id2route.npy', np.asarray(id2route))\n",
    "np.save('./npy/id2route_cnt.npy', np.asarray(id2route_cnt))\n",
    "np.save('./npy/id2lr.npy', np.asarray(id2lr))\n",
    "np.save('./npy/id2prob.npy', np.asarray(id2prob))"
   ]
  },
  {
   "cell_type": "code",
   "execution_count": 158,
   "metadata": {},
   "outputs": [
    {
     "name": "stdout",
     "output_type": "stream",
     "text": [
      "[[46455 46447 46444 46413 46349 46346 46091 46088 45065 45062 40967 32775\n",
      "  32772     5     2     1]\n",
      " [46468 46461 46445 46413 46349 46346 46091 46088 45065 45062 40967 32775\n",
      "  32772     5     2     1]\n",
      " [    0     0     0     0     0     0     0     0     0     0     0     0\n",
      "      0     0     0     0]\n",
      " [    0     0     0     0     0     0     0     0     0     0     0     0\n",
      "      0     0     0     0]]\n",
      "[0.11276673535000725, 0.88723326464999275, 0, 0]\n"
     ]
    }
   ],
   "source": [
    "print id2route[1]\n",
    "print id2prob[1]"
   ]
  }
 ],
 "metadata": {
  "kernelspec": {
   "display_name": "Python 3",
   "language": "python",
   "name": "python3"
  },
  "language_info": {
   "codemirror_mode": {
    "name": "ipython",
    "version": 3
   },
   "file_extension": ".py",
   "mimetype": "text/x-python",
   "name": "python",
   "nbconvert_exporter": "python",
   "pygments_lexer": "ipython3",
   "version": "3.7.5"
  }
 },
 "nbformat": 4,
 "nbformat_minor": 2
}
